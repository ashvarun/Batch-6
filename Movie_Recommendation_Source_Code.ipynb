{
  "nbformat": 4,
  "nbformat_minor": 0,
  "metadata": {
    "colab": {
      "provenance": [],
      "authorship_tag": "ABX9TyOrbuzwRAyPMg5DVzf55WOt",
      "include_colab_link": true
    },
    "kernelspec": {
      "name": "python3",
      "display_name": "Python 3"
    },
    "language_info": {
      "name": "python"
    }
  },
  "cells": [
    {
      "cell_type": "markdown",
      "metadata": {
        "id": "view-in-github",
        "colab_type": "text"
      },
      "source": [
        "<a href=\"https://colab.research.google.com/github/ashvarun/Batch-6/blob/main/Movie_Recommendation_Source_Code.ipynb\" target=\"_parent\"><img src=\"https://colab.research.google.com/assets/colab-badge.svg\" alt=\"Open In Colab\"/></a>"
      ]
    },
    {
      "cell_type": "code",
      "execution_count": null,
      "metadata": {
        "id": "flgTcVUbsQop"
      },
      "outputs": [],
      "source": [
        "# Import necessary libraries\n",
        "import pandas as pd\n",
        "import numpy as np\n",
        "import matplotlib.pyplot as plt\n",
        "import seaborn as sns\n",
        "\n",
        "# Load dataset\n",
        "df = pd.read_csv(\"/content/movies - Sheet1.csv\")\n",
        "\n",
        "# Clean and rename columns\n",
        "df = df.drop(columns=[col for col in df.columns if 'Unnamed' in col])\n",
        "df = df.rename(columns={'movie_id': 'movieId', 'Ratings': 'rating'})\n",
        "df['rating'] = pd.to_numeric(df['rating'], errors='coerce')\n",
        "\n",
        "# Basic Info\n",
        "print(\"Movies Dataset:\")\n",
        "print(df.head(), \"\\n\")\n",
        "\n",
        "# Missing values\n",
        "print(\"Missing values in Dataset:\")\n",
        "print(df.isnull().sum(), \"\\n\")\n",
        "\n",
        "# Basic statistics\n",
        "print(\"Dataset Description:\")\n",
        "print(df.describe(include='all'), \"\\n\")\n",
        "\n",
        "# Distribution of ratings\n",
        "plt.figure(figsize=(10, 6))\n",
        "sns.histplot(df['rating'], bins=10, kde=True)\n",
        "plt.title('Distribution of Movie Ratings')\n",
        "plt.xlabel('Rating')\n",
        "plt.ylabel('Frequency')\n",
        "plt.grid(True)\n",
        "plt.show()\n",
        "\n",
        "# Top movies by rating (all movies here have one rating entry)\n",
        "top_movies = df.sort_values(by='rating', ascending=False).head(10)\n",
        "print(\"Top 10 Movies by Rating:\")\n",
        "print(top_movies[['title', 'genre', 'rating']], \"\\n\")\n",
        "\n",
        "genre_counts = df['genre'].str.split(',', expand=True).stack().str.strip().value_counts()\n",
        "plt.figure(figsize=(12, 6))\n",
        "sns.barplot(x=genre_counts.index, y=genre_counts.values, palette='viridis')\n",
        "plt.title('Number of Movies per Genre')\n",
        "plt.xlabel('Genre')\n",
        "plt.ylabel('Count')\n",
        "plt.xticks(rotation=45)\n",
        "plt.tight_layout()\n",
        "plt.show()"
      ]
    }
  ]
}